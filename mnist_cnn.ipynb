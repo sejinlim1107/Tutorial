{
  "cells": [
    {
      "cell_type": "code",
      "execution_count": null,
      "metadata": {
        "id": "VrvPIyiC4tVY"
      },
      "outputs": [],
      "source": [
        "# MNIST and Deep learning CNN\n",
        "import torch\n",
        "import torchvision.datasets as datasets # 이미지 관련 파이토치 라이브러리\n",
        "import torchvision.transforms as transforms # 전처리 기능 제공하는 라이브러리\n",
        "import torch.nn as nn # torch 내의 세부적인 기능 불러오기 (신경망 기술, 손실함수 등)\n",
        "import torch.nn.functional as F # 신경망 기술\n",
        "import torch.optim as optim # 최적화 문제\n",
        "import matplotlib.pyplot as plt # 시각화 도구"
      ]
    },
    {
      "cell_type": "code",
      "execution_count": null,
      "metadata": {
        "colab": {
          "base_uri": "https://localhost:8080/"
        },
        "id": "2tguYgON4tVb",
        "outputId": "b94c43d3-5dbe-42ba-9354-bbb4db7444ca"
      },
      "outputs": [
        {
          "output_type": "stream",
          "name": "stdout",
          "text": [
            "cuda:0 is available.\n"
          ]
        }
      ],
      "source": [
        "# CPU/GPU\n",
        "# GPU 쓰려구. CNN은 GPU에서 효율적인 연산 가능\n",
        "device = torch.device(\"cuda:0\" if torch.cuda.is_available() else \"cpu\")\n",
        "print(f'{device} is available.')"
      ]
    },
    {
      "cell_type": "code",
      "execution_count": null,
      "metadata": {
        "id": "L13LR7RP4tVb"
      },
      "outputs": [],
      "source": [
        "# parameters\n",
        "learning_rate = 0.01\n",
        "training_epochs = 5\n",
        "batch_size = 100"
      ]
    },
    {
      "cell_type": "code",
      "execution_count": null,
      "metadata": {
        "id": "Wr6QY1f24tVc"
      },
      "outputs": [],
      "source": [
        "# MNIST dataset\n",
        "mnist_train = datasets.MNIST(root='MNIST_data/',\n",
        "                          train=True,\n",
        "                          transform=transforms.ToTensor(),\n",
        "                          download=True)"
      ]
    },
    {
      "cell_type": "code",
      "source": [
        "# 일반적으로 데이터셋은 이미지와 라벨이 동시에 들어있는 튜플(tuple) 형태 (이미지, 라벨)\n",
        "# mnist_train[0]은 학습 데이터의 첫 번째 데이터로 이미지 한 장과 라벨 숫자 하나가 저장되어 있음\n",
        "# 즉, mnist_train[0][0]은 이미지이며 mnist_train[0][1]은 라벨임\n",
        "print(mnist_train.classes)"
      ],
      "metadata": {
        "id": "ETG9ETLRvK_1"
      },
      "execution_count": null,
      "outputs": []
    },
    {
      "cell_type": "code",
      "source": [
        "print(mnist_train[10])"
      ],
      "metadata": {
        "id": "FVbOxWpbvpeM"
      },
      "execution_count": null,
      "outputs": []
    },
    {
      "cell_type": "code",
      "execution_count": null,
      "metadata": {
        "id": "lJVlW7TC4tVc"
      },
      "outputs": [],
      "source": [
        "# DataLoader는 데이터를 미니 배치 형태로 만들어 줌\n",
        "# 따라서 배치 사이즈 및 셔플 여부 등을 선택할 수 있음\n",
        "# 여기서 배치 사이즈는 한번 학습을 할 때마다 이미지가 100개씩 들어감을 의미\n",
        "train_loader = torch.utils.data.DataLoader(dataset=mnist_train,\n",
        "                                          batch_size=batch_size,\n",
        "                                          shuffle=True,\n",
        "                                          drop_last=True)"
      ]
    },
    {
      "cell_type": "code",
      "source": [
        "data_iter = iter(train_loader)\n",
        "images, labels = data_iter.next()\n",
        "\n",
        "print(images.size()) # 배치크기 X 채널 수 X 너비 X 높이 \n",
        "print(labels) "
      ],
      "metadata": {
        "id": "Aua67otrvHPF"
      },
      "execution_count": null,
      "outputs": []
    },
    {
      "cell_type": "code",
      "source": [
        "# CNN Model\n",
        "class CNN(nn.Module):\n",
        "\n",
        "    def __init__(self):\n",
        "        super(CNN, self).__init__()\n",
        "        # L1 ImgIn shape=(?, 28, 28, 1)\n",
        "        #    Conv     -> (?, 28, 28, 32)\n",
        "        #    Pool     -> (?, 14, 14, 32)\n",
        "        self.layer1 = nn.Sequential(\n",
        "            nn.Conv2d(1, 32, kernel_size=3, stride=1, padding=1),\n",
        "            nn.BatchNorm2d(32),\n",
        "            nn.ReLU(),\n",
        "            nn.MaxPool2d(kernel_size=2, stride=2))\n",
        "        \n",
        "        # L2 ImgIn shape=(?, 14, 14, 32)\n",
        "        #    Conv      ->(?, 14, 14, 64)\n",
        "        #    Pool      ->(?, 7, 7, 64)\n",
        "        self.layer2 = nn.Sequential(\n",
        "            )\n",
        "        \n",
        "        # L3 ImgIn shape=(?, 7, 7, 64)\n",
        "        #    Conv      ->(?, 7, 7, 128)\n",
        "        #    Pool      ->(?, 4, 4, 128)\n",
        "        self.layer3 = nn.Sequential(\n",
        "            )\n",
        "\n",
        "        # L4 FC 4x4x128 inputs -> 625 outputs\n",
        "        self.fc1 = nn.Linear(4 * 4 * 128, 625, bias=True)\n",
        "        \n",
        "        self.layer4 = nn.Sequential(\n",
        "            self.fc1,\n",
        "            nn.ReLU(),\n",
        "            nn.Dropout(0.5))\n",
        "        \n",
        "        # L5 Final FC 625 inputs -> 10 outputs\n",
        "        self.fc2 = nn.Linear(625, 10, bias=True)\n",
        "        \n",
        "    def forward(self, x):\n",
        "        out = self.layer1(x)\n",
        "        out = self.layer2(out)\n",
        "        out = self.layer3(out)\n",
        "        \n",
        "        out = out.view(out.size(0), -1) # Flatten them for FC\n",
        "        # 일렬로 핀 개수가 배치 수만큼 있어야하니까 out.size(0)\n",
        "\n",
        "        out = self.layer4(out)\n",
        "        out = self.fc2(out)\n",
        "        # CrossEntropyLoss는 softmax 계산까지 포함되어 있으므로 모델의 마지막 output node에 별도의 활성화 함수를 사용하지 않아도 됨\n",
        "\n",
        "        return out"
      ],
      "metadata": {
        "id": "B0JcmpYYnC-g"
      },
      "execution_count": null,
      "outputs": []
    },
    {
      "cell_type": "code",
      "execution_count": null,
      "metadata": {
        "id": "kSC9X6oY4tVe"
      },
      "outputs": [],
      "source": [
        "# CNN 모델 선언\n",
        "# GPU 연산을 할 수 있도록 반드시 to(device)를 써줘야함\n",
        "model = CNN().to(device)"
      ]
    },
    {
      "cell_type": "code",
      "source": [
        "# CNN Model\n",
        "class CNN(nn.Module):\n",
        "\n",
        "    def __init__(self):\n",
        "        super(CNN, self).__init__()\n",
        "        # L1 ImgIn shape=(?, 28, 28, 1)\n",
        "        #    Conv     -> (?, 28, 28, 32)\n",
        "        #    Pool     -> (?, 14, 14, 32)\n",
        "        self.layer1 = nn.Sequential(\n",
        "            nn.Conv2d(1, 32, kernel_size=3, stride=1, padding=1),\n",
        "            nn.BatchNorm2d(32),\n",
        "            nn.ReLU(),\n",
        "            nn.MaxPool2d(kernel_size=2, stride=2))\n",
        "        \n",
        "        # L2 ImgIn shape=(?, 14, 14, 32)\n",
        "        #    Conv      ->(?, 14, 14, 64)\n",
        "        #    Pool      ->(?, 7, 7, 64)\n",
        "        self.layer2 = nn.Sequential(\n",
        "            )\n",
        "        \n",
        "        # L3 ImgIn shape=(?, 7, 7, 64)\n",
        "        #    Conv      ->(?, 7, 7, 128)\n",
        "        #    Pool      ->(?, 4, 4, 128)\n",
        "        self.layer3 = nn.Sequential(\n",
        "            )\n",
        "\n",
        "        # L4 FC 4x4x128 inputs -> 625 outputs\n",
        "        self.fc1 = nn.Linear(4 * 4 * 128, 625, bias=True)\n",
        "        \n",
        "        self.layer4 = nn.Sequential(\n",
        "            self.fc1,\n",
        "            nn.ReLU(),\n",
        "            nn.Dropout(0.5))\n",
        "        \n",
        "        # L5 Final FC 625 inputs -> 10 outputs\n",
        "        self.fc2 = nn.Linear(625, , bias=True)\n",
        "        \n",
        "    def forward(self, x):\n",
        "        out = self.layer1(x)\n",
        "        \n",
        "        \n",
        "        out = out.view(out.size(0), -1) # Flatten them for FC\n",
        "        # 일렬로 핀 개수가 배치 수만큼 있어야하니까 out.size(0)\n",
        "\n",
        "        out = self.layer4(out)\n",
        "        out = self.fc2(out)\n",
        "        # CrossEntropyLoss는 softmax 계산까지 포함되어 있으므로 \n",
        "        # 모델의 마지막 output node에 별도의 활성화 함수를 사용하지 않아도 됨\n",
        "\n",
        "        return out"
      ],
      "metadata": {
        "id": "worPY9Vzusif"
      },
      "execution_count": null,
      "outputs": []
    },
    {
      "cell_type": "code",
      "source": [
        "print(model)"
      ],
      "metadata": {
        "id": "ExPjseaywF3q"
      },
      "execution_count": null,
      "outputs": []
    },
    {
      "cell_type": "code",
      "execution_count": null,
      "metadata": {
        "id": "5PHLfYqE4tVf"
      },
      "outputs": [],
      "source": [
        "# loss 함수, 옵티마이저 정의\n",
        "criterion = nn.CrossEntropyLoss().to(device) # 다중 분류 문제라서 사용. softmax 계산까지 포함됨\n",
        "optimizer = optim.Adam(model.parameters(), lr=learning_rate) # 업데이트 되어야하는 파라미터 첫번째 인자로 넘겨주기"
      ]
    },
    {
      "cell_type": "code",
      "source": [
        "len(train_loader) # 학습 이미지가 60,000장이고 배치 사이즈가 100장이므로 총 배치의 개수는 600개"
      ],
      "metadata": {
        "id": "pyvLhnXp053K"
      },
      "execution_count": null,
      "outputs": []
    },
    {
      "cell_type": "code",
      "source": [
        "loss_ = [] # 그래프를 그리기 위한 loss 저장용 리스트 \n",
        "total_batch = len(train_loader) # 총 배치 수\n",
        "model.train()    # set the model to train mode (dropout=True)\n",
        "print('!학습 시작!')\n",
        "for epoch in range(training_epochs): # 5번 학습 진행\n",
        "    avg_loss = 0\n",
        "\n",
        "    for X, Y in train_loader:\n",
        "        X = X.to(device) # GPU용 데이터(텐서)로 바꿔주기\n",
        "        Y = Y.to(device)\n",
        "\n",
        "        optimizer.zero_grad() # 옵티마이저 초기화\n",
        "        output = model(X) # 예측값 산출\n",
        "        loss = criterion(output, Y) # 손실함수 계산\n",
        "        loss.backward() # 손실함수 기준으로 역전파\n",
        "        optimizer.step() # 가중치 최적화\n",
        "\n",
        "        avg_loss += loss / total_batch\n",
        "\n",
        "    print('[Epoch: {:>2}] loss = {:>.9}'.format(epoch + 1, avg_loss))\n",
        "    loss_.append(avg_loss.item()) # loss는 tensor 형태이기 때문에 item() 함수를 통해 숫자만 가져옴\n",
        "\n",
        "print('!학습 끝!')"
      ],
      "metadata": {
        "id": "5m7rTCZ1wJ1b"
      },
      "execution_count": null,
      "outputs": []
    },
    {
      "cell_type": "code",
      "source": [
        "loss_"
      ],
      "metadata": {
        "id": "Ggx6A1oZwLk5"
      },
      "execution_count": null,
      "outputs": []
    },
    {
      "cell_type": "code",
      "source": [
        "plt.plot(loss_)\n",
        "plt.title(\"Training Loss\")\n",
        "plt.xlabel(\"epoch\")\n",
        "plt.show()"
      ],
      "metadata": {
        "id": "ScuYS6wAwM6u"
      },
      "execution_count": null,
      "outputs": []
    },
    {
      "cell_type": "code",
      "source": [
        "# Test model and check accuracy\n",
        "with torch.no_grad():\n",
        "    model.eval() # 모델을 평가모드로 설정 (dropout=False)\n",
        "\n",
        "    X_test = mnist_test.test_data.view(len(mnist_test), 1, 28, 28).float().to(device)\n",
        "    Y_test = mnist_test.test_labels.to(device)\n",
        "\n",
        "    prediction = model(X_test)\n",
        "    correct_prediction = torch.argmax(prediction, 1) == Y_test\n",
        "    # prediction에는 10개의 라벨에 대한 벡터 값들이 나타나있으므로 그 중 가장 큰 값 선택해야함\n",
        "    # torch.argmax(prediction, 1)의 결과는 최댓값의 위치를 나타냄\n",
        "    accuracy = correct_prediction.float().mean()\n",
        "    print('Accuracy:', accuracy.item())"
      ],
      "metadata": {
        "id": "7Jh3o0qAwOO3"
      },
      "execution_count": null,
      "outputs": []
    }
  ],
  "metadata": {
    "kernelspec": {
      "display_name": "Python 3",
      "language": "python",
      "name": "python3"
    },
    "language_info": {
      "codemirror_mode": {
        "name": "ipython",
        "version": 3
      },
      "file_extension": ".py",
      "mimetype": "text/x-python",
      "name": "python",
      "nbconvert_exporter": "python",
      "pygments_lexer": "ipython3",
      "version": "3.7.1"
    },
    "colab": {
      "name": "lab-10_2_mnist_deep_cnn.ipynb",
      "provenance": []
    },
    "accelerator": "GPU",
    "gpuClass": "standard"
  },
  "nbformat": 4,
  "nbformat_minor": 0
}