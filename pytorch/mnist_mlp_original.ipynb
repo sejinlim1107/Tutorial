{
  "cells": [
    {
      "cell_type": "code",
      "execution_count": 12,
      "metadata": {
        "id": "fAepYekli_fv"
      },
      "outputs": [],
      "source": [
        "import torch\n",
        "import torchvision.datasets as datasets # 이미지 관련 파이토치 라이브러리\n",
        "import torchvision.transforms as transforms # 전처리 기능 제공하는 라이브러리\n",
        "import torch.nn as nn # torch 내의 세부적인 기능 불러오기 (신경망 기술, 손실함수 등)\n",
        "import torch.optim as optim # 최적화 문제\n",
        "import random"
      ]
    },
    {
      "cell_type": "code",
      "source": [
        "# CPU/GPU\n",
        "# GPU 쓰려구. CNN은 GPU에서 효율적인 연산 가능\n",
        "device = torch.device(\"cuda:0\" if torch.cuda.is_available() else \"cpu\")\n",
        "print(f'{device} is available.')"
      ],
      "metadata": {
        "id": "2pwfkjNOmBL1"
      },
      "execution_count": null,
      "outputs": []
    },
    {
      "cell_type": "code",
      "source": [
        "# parameters\n",
        "learning_rate = 0.001\n",
        "training_epochs = 5\n",
        "batch_size = 100"
      ],
      "metadata": {
        "id": "3_XluotPmCxO"
      },
      "execution_count": null,
      "outputs": []
    },
    {
      "cell_type": "code",
      "source": [
        "# MNIST dataset\n",
        "mnist_train = datasets.MNIST(root='MNIST_data/',\n",
        "                          train=True,\n",
        "                          transform=transforms.ToTensor(),\n",
        "                          download=True)\n",
        "mnist_test = datasets.MNIST(root='MNIST_data/',\n",
        "                         train=False,\n",
        "                         transform=transforms.ToTensor(),\n",
        "                         download=True)"
      ],
      "metadata": {
        "id": "KPiSSyfTmEWF"
      },
      "execution_count": null,
      "outputs": []
    },
    {
      "cell_type": "code",
      "source": [
        "# 일반적으로 데이터셋은 이미지와 라벨이 동시에 들어있는 튜플(tuple) 형태 (이미지, 라벨)\n",
        "# mnist_train[0]은 학습 데이터의 첫 번째 데이터로 이미지 한 장과 라벨 숫자 하나가 저장되어 있음\n",
        "# 즉, mnist_train[0][0]은 이미지이며 mnist_train[0][1]은 라벨임\n",
        "print(mnist_train.classes)"
      ],
      "metadata": {
        "id": "nBwU5BdUogqy"
      },
      "execution_count": null,
      "outputs": []
    },
    {
      "cell_type": "code",
      "source": [
        "print(mnist_train[10])"
      ],
      "metadata": {
        "id": "5hg9kb-zokAm"
      },
      "execution_count": null,
      "outputs": []
    },
    {
      "cell_type": "code",
      "source": [
        "# DataLoader는 데이터를 미니 배치 형태로 만들어 줌\n",
        "# 따라서 배치 사이즈 및 셔플 여부 등을 선택할 수 있음\n",
        "# 여기서 배치 사이즈는 한번 학습을 할 때마다 이미지가 100개씩 들어감을 의미\n",
        "train_loader = torch.utils.data.DataLoader(dataset=mnist_train,\n",
        "                                          batch_size=batch_size,\n",
        "                                          shuffle=True,\n",
        "                                          drop_last=True)"
      ],
      "metadata": {
        "id": "e3qrWj7DmGC7"
      },
      "execution_count": null,
      "outputs": []
    },
    {
      "cell_type": "code",
      "source": [
        "data_iter = iter(train_loader)\n",
        "images, labels = data_iter.next()\n",
        "\n",
        "print(images.size())\n",
        "print(labels) # 배치크기 X 채널 수 X 너비 X 높이 "
      ],
      "metadata": {
        "id": "M5LSx1ZPooXK"
      },
      "execution_count": null,
      "outputs": []
    },
    {
      "cell_type": "code",
      "source": [
        "# MLP Model\n",
        "class MLP(nn.Module):\n",
        "\n",
        "    def __init__(self):\n",
        "        super(MLP, self).__init__()\n",
        "        \n",
        "        self.layer1 = nn.Linear(784, 256, bias = True)\n",
        "        self.layer2 = nn.Linear(256, 256, bias = True)\n",
        "        self.layer3 = nn.Linear(256, 10, bias = True)\n",
        "        self.relu = nn.ReLU()\n",
        "        \n",
        "    def forward(self, x):\n",
        "        out = self.layer1(x)\n",
        "        out = self.layer2(out)\n",
        "        out = self.layer3(out)\n",
        "        out = self.relu(out)\n",
        "\n",
        "        return out"
      ],
      "metadata": {
        "id": "YqC_7XaNkqSN"
      },
      "execution_count": 7,
      "outputs": []
    },
    {
      "cell_type": "code",
      "execution_count": 8,
      "metadata": {
        "id": "BYR5muzXi_f3"
      },
      "outputs": [],
      "source": [
        "# MLP 모델 선언\n",
        "# GPU 연산을 할 수 있도록 반드시 to(device)를 써줘야함\n",
        "model = MLP().to(device)"
      ]
    },
    {
      "cell_type": "code",
      "source": [
        "print(model)"
      ],
      "metadata": {
        "id": "0-WxgXpNotq1"
      },
      "execution_count": null,
      "outputs": []
    },
    {
      "cell_type": "code",
      "execution_count": 9,
      "metadata": {
        "id": "qAIIEFtni_f3"
      },
      "outputs": [],
      "source": [
        "# loss 함수, 옵티마이저 정의\n",
        "criterion = nn.CrossEntropyLoss().to(device) # 다중 분류 문제라서 사용. softmax 계산까지 포함됨\n",
        "optimizer = optim.Adam(model.parameters(), lr=learning_rate) # 업데이트 되어야하는 파라미터 첫번째 인자로 넘겨주기"
      ]
    },
    {
      "cell_type": "code",
      "source": [
        "total_batch = len(train_loader)\n",
        "for epoch in range(training_epochs):\n",
        "    avg_loss = 0\n",
        "\n",
        "    for X, Y in train_loader:\n",
        "        X = X.view(-1, 28 * 28).to(device)\n",
        "        Y = Y.to(device)\n",
        "\n",
        "        optimizer.zero_grad()\n",
        "        output = model(X)\n",
        "        loss = criterion(output, Y)\n",
        "        loss.backward()\n",
        "        optimizer.step()\n",
        "\n",
        "        avg_loss += loss / total_batch\n",
        "\n",
        "    print('Epoch:', '%04d' % (epoch + 1), 'loss =', '{:.9f}'.format(avg_loss))\n",
        "\n",
        "print('Learning finished')"
      ],
      "metadata": {
        "id": "Ln6dKoaLmyeL"
      },
      "execution_count": null,
      "outputs": []
    },
    {
      "cell_type": "code",
      "source": [
        "# Test the model using test sets\n",
        "with torch.no_grad():\n",
        "    X_test = mnist_test.test_data.view(-1, 28 * 28).float().to(device)\n",
        "    Y_test = mnist_test.test_labels.to(device)\n",
        "\n",
        "    prediction = model(X_test)\n",
        "    correct_prediction = torch.argmax(prediction, 1) == Y_test\n",
        "    accuracy = correct_prediction.float().mean()\n",
        "    print('Accuracy:', accuracy.item())\n",
        "\n",
        "    # Get one and predict\n",
        "    r = random.randint(0, len(mnist_test) - 1)\n",
        "    X_single_data = mnist_test.test_data[r:r + 1].view(-1, 28 * 28).float().to(device)\n",
        "    Y_single_data = mnist_test.test_labels[r:r + 1].to(device)\n",
        "\n",
        "    print('Label: ', Y_single_data.item())\n",
        "    single_prediction = model(X_single_data)\n",
        "    print('Prediction: ', torch.argmax(single_prediction, 1).item())"
      ],
      "metadata": {
        "id": "VsEa02Damz7y"
      },
      "execution_count": null,
      "outputs": []
    }
  ],
  "metadata": {
    "kernelspec": {
      "display_name": "Python 3",
      "language": "python",
      "name": "python3"
    },
    "language_info": {
      "codemirror_mode": {
        "name": "ipython",
        "version": 3
      },
      "file_extension": ".py",
      "mimetype": "text/x-python",
      "name": "python",
      "nbconvert_exporter": "python",
      "pygments_lexer": "ipython3",
      "version": "3.5.3"
    },
    "colab": {
      "name": "lab-09_2_mnist_nn.ipynb",
      "provenance": []
    },
    "accelerator": "GPU",
    "gpuClass": "standard"
  },
  "nbformat": 4,
  "nbformat_minor": 0
}