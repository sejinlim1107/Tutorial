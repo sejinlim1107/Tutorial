{
  "nbformat": 4,
  "nbformat_minor": 0,
  "metadata": {
    "colab": {
      "name": "numpy.ipynb",
      "provenance": [],
      "collapsed_sections": []
    },
    "kernelspec": {
      "name": "python3",
      "display_name": "Python 3"
    },
    "language_info": {
      "name": "python"
    }
  },
  "cells": [
    {
      "cell_type": "markdown",
      "source": [
        "## NumPy 실습"
      ],
      "metadata": {
        "id": "H4QBkz7LHsuF"
      }
    },
    {
      "cell_type": "code",
      "execution_count": 1,
      "metadata": {
        "id": "yZgCIx1xcYqX"
      },
      "outputs": [],
      "source": [
        "import numpy as np"
      ]
    },
    {
      "cell_type": "code",
      "source": [
        "a = np.array([0,1,2,3,4,5])"
      ],
      "metadata": {
        "id": "ldgsU4JCceXT"
      },
      "execution_count": 2,
      "outputs": []
    },
    {
      "cell_type": "code",
      "source": [
        "a"
      ],
      "metadata": {
        "colab": {
          "base_uri": "https://localhost:8080/"
        },
        "id": "nxCCZb9SchhP",
        "outputId": "d9821632-f118-4977-c100-f878a90d1d35"
      },
      "execution_count": 3,
      "outputs": [
        {
          "output_type": "execute_result",
          "data": {
            "text/plain": [
              "array([0, 1, 2, 3, 4, 5])"
            ]
          },
          "metadata": {},
          "execution_count": 3
        }
      ]
    },
    {
      "cell_type": "code",
      "source": [
        "a[2]"
      ],
      "metadata": {
        "colab": {
          "base_uri": "https://localhost:8080/"
        },
        "id": "lQPOds-xciAA",
        "outputId": "05580118-7f33-4729-8619-d3abbf190057"
      },
      "execution_count": 4,
      "outputs": [
        {
          "output_type": "execute_result",
          "data": {
            "text/plain": [
              "2"
            ]
          },
          "metadata": {},
          "execution_count": 4
        }
      ]
    },
    {
      "cell_type": "code",
      "source": [
        "a[-1]"
      ],
      "metadata": {
        "colab": {
          "base_uri": "https://localhost:8080/"
        },
        "id": "DBrIuGrGckx6",
        "outputId": "3ea6971d-c948-4bf1-94ff-5486ac86badd"
      },
      "execution_count": 5,
      "outputs": [
        {
          "output_type": "execute_result",
          "data": {
            "text/plain": [
              "5"
            ]
          },
          "metadata": {},
          "execution_count": 5
        }
      ]
    },
    {
      "cell_type": "code",
      "source": [
        "a.reshape(2,3)"
      ],
      "metadata": {
        "colab": {
          "base_uri": "https://localhost:8080/"
        },
        "id": "jt9MLNoXyrzT",
        "outputId": "c0b54141-b3da-4548-86a0-53b92d4d2dff"
      },
      "execution_count": 6,
      "outputs": [
        {
          "output_type": "execute_result",
          "data": {
            "text/plain": [
              "array([[0, 1, 2],\n",
              "       [3, 4, 5]])"
            ]
          },
          "metadata": {},
          "execution_count": 6
        }
      ]
    },
    {
      "cell_type": "markdown",
      "source": [
        "## Tensor 실습\n",
        "데이터로부터 직접 생성하기"
      ],
      "metadata": {
        "id": "Wdy9aZ-7Hxn3"
      }
    },
    {
      "cell_type": "code",
      "source": [
        "import torch\n",
        "import numpy as np"
      ],
      "metadata": {
        "id": "1eaG9gdTcl6s"
      },
      "execution_count": 9,
      "outputs": []
    },
    {
      "cell_type": "code",
      "source": [
        "data = [[1,2], [3,4]]\n",
        "x_data = torch.tensor(data)"
      ],
      "metadata": {
        "id": "-CBjxNFvombS"
      },
      "execution_count": null,
      "outputs": []
    },
    {
      "cell_type": "code",
      "source": [
        "x_data"
      ],
      "metadata": {
        "colab": {
          "base_uri": "https://localhost:8080/"
        },
        "id": "uxqKgcVyortV",
        "outputId": "d2ccc96c-cbee-4516-bc5d-10b2c2f6dfa1"
      },
      "execution_count": null,
      "outputs": [
        {
          "output_type": "execute_result",
          "data": {
            "text/plain": [
              "tensor([[1, 2],\n",
              "        [3, 4]])"
            ]
          },
          "metadata": {},
          "execution_count": 4
        }
      ]
    },
    {
      "cell_type": "code",
      "metadata": {
        "id": "U37TyT3SqPkm",
        "colab": {
          "base_uri": "https://localhost:8080/"
        },
        "outputId": "366ed361-6bb5-4ec4-f50d-8fec7590f021"
      },
      "source": [
        "torch.ones(3,3) # 3x3 일 행렬"
      ],
      "execution_count": null,
      "outputs": [
        {
          "output_type": "execute_result",
          "data": {
            "text/plain": [
              "tensor([[1., 1., 1.],\n",
              "        [1., 1., 1.],\n",
              "        [1., 1., 1.]])"
            ]
          },
          "metadata": {},
          "execution_count": 3
        }
      ]
    },
    {
      "cell_type": "code",
      "metadata": {
        "id": "3jAY9hU0qPkn",
        "colab": {
          "base_uri": "https://localhost:8080/"
        },
        "outputId": "de07fd7c-5205-4689-9478-f21c9279aab6"
      },
      "source": [
        "torch.zeros(2) # 2행 영 벡터"
      ],
      "execution_count": null,
      "outputs": [
        {
          "output_type": "execute_result",
          "data": {
            "text/plain": [
              "tensor([0., 0.])"
            ]
          },
          "metadata": {},
          "execution_count": 4
        }
      ]
    },
    {
      "cell_type": "code",
      "metadata": {
        "id": "2ubo6x0eqPko",
        "colab": {
          "base_uri": "https://localhost:8080/"
        },
        "outputId": "6d14a9aa-6ecd-4a6e-c3e4-b0f56a901784"
      },
      "source": [
        "torch.rand(5,6) # 5x6 랜덤 행렬"
      ],
      "execution_count": null,
      "outputs": [
        {
          "output_type": "execute_result",
          "data": {
            "text/plain": [
              "tensor([[5.0298e-01, 3.3023e-01, 1.1666e-01, 3.4544e-01, 8.3158e-01, 8.9340e-01],\n",
              "        [7.1719e-01, 8.5634e-01, 1.7697e-01, 3.0523e-01, 9.2882e-04, 4.0220e-01],\n",
              "        [2.9776e-01, 8.8183e-02, 5.1754e-02, 1.3377e-01, 4.0533e-01, 8.3218e-01],\n",
              "        [4.1672e-01, 4.2948e-01, 3.1184e-01, 8.8037e-01, 6.3272e-01, 2.6423e-01],\n",
              "        [8.0896e-01, 2.8470e-01, 9.8636e-01, 4.6373e-02, 1.4048e-02, 1.8264e-01]])"
            ]
          },
          "metadata": {},
          "execution_count": 5
        }
      ]
    },
    {
      "cell_type": "markdown",
      "source": [
        "## NumPy 배열로부터 생성하기\n",
        "Numpy 배열 -> tensor로 변환"
      ],
      "metadata": {
        "id": "WDgtauuMH6fP"
      }
    },
    {
      "cell_type": "code",
      "source": [
        "np_array = np.array(data)\n",
        "x_np = torch.from_numpy(np_array)"
      ],
      "metadata": {
        "id": "acr7rYBmovEH"
      },
      "execution_count": null,
      "outputs": []
    },
    {
      "cell_type": "code",
      "source": [
        "np_array"
      ],
      "metadata": {
        "colab": {
          "base_uri": "https://localhost:8080/"
        },
        "id": "30dWlhhupN8z",
        "outputId": "d0064304-3efa-46e5-f1fb-56a804d34db2"
      },
      "execution_count": null,
      "outputs": [
        {
          "output_type": "execute_result",
          "data": {
            "text/plain": [
              "array([[1, 2],\n",
              "       [3, 4]])"
            ]
          },
          "metadata": {},
          "execution_count": 6
        }
      ]
    },
    {
      "cell_type": "code",
      "source": [
        "x_np"
      ],
      "metadata": {
        "colab": {
          "base_uri": "https://localhost:8080/"
        },
        "id": "GuGvZ7IopKU6",
        "outputId": "c596d98e-7d15-4184-9cea-d02441a607b5"
      },
      "execution_count": null,
      "outputs": [
        {
          "output_type": "execute_result",
          "data": {
            "text/plain": [
              "tensor([[1, 2],\n",
              "        [3, 4]])"
            ]
          },
          "metadata": {},
          "execution_count": 7
        }
      ]
    },
    {
      "cell_type": "markdown",
      "source": [
        "## 텐서의 속성\n",
        "텐서의 모양(shape), 자료형(datatype), 어느 장치에 저장되는지 확인"
      ],
      "metadata": {
        "id": "qwQYLPTTg1jx"
      }
    },
    {
      "cell_type": "code",
      "source": [
        "print(f\"Shape of tensor: {x_data.shape}\")\n",
        "print(f\"Datatype of tensor: {x_data.dtype}\")\n",
        "print(f\"Device tensor is stored on: {x_data.device}\")"
      ],
      "metadata": {
        "id": "d14hv9E7pNGO",
        "colab": {
          "base_uri": "https://localhost:8080/"
        },
        "outputId": "5904d236-3f47-4afe-c5e5-7c354237fff2"
      },
      "execution_count": null,
      "outputs": [
        {
          "output_type": "stream",
          "name": "stdout",
          "text": [
            "Shape of tensor: torch.Size([2, 2])\n",
            "Datatype of tensor: torch.int64\n",
            "Device tensor is stored on: cpu\n"
          ]
        }
      ]
    },
    {
      "cell_type": "code",
      "metadata": {
        "id": "2nwB6JdLqPkk",
        "colab": {
          "base_uri": "https://localhost:8080/"
        },
        "outputId": "8913c3fe-5d7a-4b94-8cb4-70c2c991f980"
      },
      "source": [
        "# 빈 텐서 생성\n",
        "x = torch.empty(5,4) # 5x4 행렬 생성\n",
        "print(x) # 초기화되지 않은 행렬인 경우 해당 시점에 할당된 메모리에 존재하던 값들이 초기값으로 나타남"
      ],
      "execution_count": 10,
      "outputs": [
        {
          "output_type": "stream",
          "name": "stdout",
          "text": [
            "tensor([[5.9800e-35, 0.0000e+00, 7.0065e-44, 7.0065e-44],\n",
            "        [6.3058e-44, 6.7262e-44, 7.7071e-44, 6.3058e-44],\n",
            "        [7.0065e-44, 7.8473e-44, 1.1771e-43, 6.7262e-44],\n",
            "        [7.1466e-44, 8.1275e-44, 6.8664e-44, 7.2868e-44],\n",
            "        [8.1275e-44, 6.8664e-44, 7.2868e-44, 6.4460e-44]])\n"
          ]
        }
      ]
    },
    {
      "cell_type": "markdown",
      "metadata": {
        "id": "dGAqghDlqPkq"
      },
      "source": [
        "## 텐서의 크기와 타입 확인하기"
      ]
    },
    {
      "cell_type": "code",
      "source": [
        "x.size()"
      ],
      "metadata": {
        "colab": {
          "base_uri": "https://localhost:8080/"
        },
        "id": "1YUhbZUwI1oH",
        "outputId": "c0afaf80-3767-4fa0-8cc7-4baf75e22efe"
      },
      "execution_count": 11,
      "outputs": [
        {
          "output_type": "execute_result",
          "data": {
            "text/plain": [
              "torch.Size([5, 4])"
            ]
          },
          "metadata": {},
          "execution_count": 11
        }
      ]
    },
    {
      "cell_type": "code",
      "metadata": {
        "id": "pHaxxIDYqPkr",
        "colab": {
          "base_uri": "https://localhost:8080/"
        },
        "outputId": "237d4476-b9c9-46f1-933f-d5adbf3490a7"
      },
      "source": [
        "x.size()[1] # .size()는 텐서의 크기를 확인할 수 있으며 매우 자주 사용된다."
      ],
      "execution_count": 12,
      "outputs": [
        {
          "output_type": "execute_result",
          "data": {
            "text/plain": [
              "4"
            ]
          },
          "metadata": {},
          "execution_count": 12
        }
      ]
    },
    {
      "cell_type": "code",
      "source": [
        "x = x.view(-1,10)"
      ],
      "metadata": {
        "id": "gMkZPDamy7AB"
      },
      "execution_count": 15,
      "outputs": []
    },
    {
      "cell_type": "code",
      "source": [
        "x.size()"
      ],
      "metadata": {
        "colab": {
          "base_uri": "https://localhost:8080/"
        },
        "id": "Zx924Qf5zGBY",
        "outputId": "9d176a38-87d4-484e-b395-0eb8e1f29d05"
      },
      "execution_count": 16,
      "outputs": [
        {
          "output_type": "execute_result",
          "data": {
            "text/plain": [
              "torch.Size([2, 10])"
            ]
          },
          "metadata": {},
          "execution_count": 16
        }
      ]
    },
    {
      "cell_type": "code",
      "metadata": {
        "id": "ChG3WAk9qPkr",
        "colab": {
          "base_uri": "https://localhost:8080/"
        },
        "outputId": "ff32011d-d4e0-46c7-fe7b-c79562a70f21"
      },
      "source": [
        "type(x) # type은 Python에서 사용되는 모든 것들을 종류를 보여줌"
      ],
      "execution_count": null,
      "outputs": [
        {
          "output_type": "execute_result",
          "data": {
            "text/plain": [
              "torch.Tensor"
            ]
          },
          "metadata": {},
          "execution_count": 8
        }
      ]
    },
    {
      "cell_type": "code",
      "source": [
        ""
      ],
      "metadata": {
        "id": "0jzgG7I4Izt9"
      },
      "execution_count": null,
      "outputs": []
    }
  ]
}